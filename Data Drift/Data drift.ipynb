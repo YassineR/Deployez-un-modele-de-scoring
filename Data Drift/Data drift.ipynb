{
 "cells": [
  {
   "cell_type": "markdown",
   "id": "e9b87ff2",
   "metadata": {},
   "source": [
    "# Import"
   ]
  },
  {
   "cell_type": "code",
   "execution_count": 1,
   "id": "e7495675",
   "metadata": {},
   "outputs": [
    {
     "name": "stderr",
     "output_type": "stream",
     "text": [
      "C:\\Users\\yassi\\anaconda3\\lib\\site-packages\\scipy\\__init__.py:138: UserWarning: A NumPy version >=1.16.5 and <1.23.0 is required for this version of SciPy (detected version 1.23.5)\n",
      "  warnings.warn(f\"A NumPy version >={np_minversion} and <{np_maxversion} is required for this version of \"\n"
     ]
    }
   ],
   "source": [
    "import evidently\n",
    "from evidently.report import Report\n",
    "\n",
    "from evidently.metric_preset import DataDriftPreset \n",
    "import pandas as pd"
   ]
  },
  {
   "cell_type": "markdown",
   "id": "bcfb6b1c",
   "metadata": {},
   "source": [
    "# Application "
   ]
  },
  {
   "cell_type": "code",
   "execution_count": 19,
   "id": "452d32c2",
   "metadata": {},
   "outputs": [],
   "source": [
    "application_train = pd.read_csv('input/application_train.csv')\n",
    "application_train.drop(columns =['TARGET'], inplace = True)\n",
    "application_test = pd.read_csv('input/application_test.csv')\n",
    "\n",
    "train_ids = application_train[['SK_ID_CURR']]\n",
    "test_ids = application_test[['SK_ID_CURR']]"
   ]
  },
  {
   "cell_type": "code",
   "execution_count": 5,
   "id": "2bf6c6ef",
   "metadata": {},
   "outputs": [],
   "source": [
    "application_report = Report(metrics=[DataDriftPreset()])\n",
    "\n",
    "application_report.run(reference_data=application_train, current_data=application_test)"
   ]
  },
  {
   "cell_type": "code",
   "execution_count": 6,
   "id": "a477fd21",
   "metadata": {},
   "outputs": [],
   "source": [
    "application_report.save_html('application_data_drit.html')"
   ]
  },
  {
   "cell_type": "markdown",
   "id": "718b4276",
   "metadata": {},
   "source": [
    "# Bureau"
   ]
  },
  {
   "cell_type": "code",
   "execution_count": 20,
   "id": "23ca052e",
   "metadata": {},
   "outputs": [],
   "source": [
    "bureau = pd.read_csv('input/bureau.csv')\n",
    "bureau_train = train_ids.merge(bureau, how='left', on='SK_ID_CURR')\n",
    "bureau_test = test_ids.merge(bureau, how='left', on='SK_ID_CURR')"
   ]
  },
  {
   "cell_type": "code",
   "execution_count": 23,
   "id": "4f8ee84e",
   "metadata": {},
   "outputs": [],
   "source": [
    "bureau_report = Report(metrics=[DataDriftPreset()])\n",
    "\n",
    "bureau_report.run(reference_data=bureau_train, current_data=bureau_test)"
   ]
  },
  {
   "cell_type": "code",
   "execution_count": 24,
   "id": "ecc3300e",
   "metadata": {},
   "outputs": [],
   "source": [
    "bureau_report.save_html('bureau_data_drit.html')"
   ]
  },
  {
   "cell_type": "markdown",
   "id": "aafbde15",
   "metadata": {},
   "source": [
    "# Previous application"
   ]
  },
  {
   "cell_type": "code",
   "execution_count": 25,
   "id": "eca28fd7",
   "metadata": {},
   "outputs": [],
   "source": [
    "prev = pd.read_csv('input/previous_application.csv')\n",
    "\n",
    "prev_train = train_ids.merge(prev, how='left', on='SK_ID_CURR')\n",
    "prev_test = test_ids.merge(prev, how='left', on='SK_ID_CURR')"
   ]
  },
  {
   "cell_type": "code",
   "execution_count": 26,
   "id": "f08395bc",
   "metadata": {},
   "outputs": [],
   "source": [
    "prev_report = Report(metrics=[DataDriftPreset()])\n",
    "\n",
    "prev_report.run(reference_data=prev_train, current_data=prev_test)"
   ]
  },
  {
   "cell_type": "code",
   "execution_count": 27,
   "id": "ebeb2aa2",
   "metadata": {},
   "outputs": [],
   "source": [
    "prev_report.save_html('previous_app_data_drit.html')"
   ]
  },
  {
   "cell_type": "markdown",
   "id": "a096ff7c",
   "metadata": {},
   "source": [
    "# POS CASH balance "
   ]
  },
  {
   "cell_type": "code",
   "execution_count": 28,
   "id": "c3dd1dd8",
   "metadata": {},
   "outputs": [],
   "source": [
    "pos = pd.read_csv('input/POS_CASH_balance.csv')\n",
    "\n",
    "pos_train = train_ids.merge(pos, how='left', on='SK_ID_CURR')\n",
    "pos_test = test_ids.merge(pos, how='left', on='SK_ID_CURR')"
   ]
  },
  {
   "cell_type": "code",
   "execution_count": 29,
   "id": "e0aa7d6f",
   "metadata": {},
   "outputs": [],
   "source": [
    "pos_report = Report(metrics=[DataDriftPreset()])\n",
    "\n",
    "pos_report.run(reference_data=pos_train, current_data=pos_test)"
   ]
  },
  {
   "cell_type": "code",
   "execution_count": 30,
   "id": "0390d8a8",
   "metadata": {},
   "outputs": [],
   "source": [
    "pos_report.save_html('pos_cash_balance_data_drit.html')"
   ]
  },
  {
   "cell_type": "markdown",
   "id": "dff054a6",
   "metadata": {},
   "source": [
    "# Installments payments"
   ]
  },
  {
   "cell_type": "code",
   "execution_count": 33,
   "id": "cfee2505",
   "metadata": {},
   "outputs": [],
   "source": [
    "ins = pd.read_csv('input/installments_payments.csv')\n",
    "\n",
    "ins_train = train_ids.merge(ins, how='left', on='SK_ID_CURR')\n",
    "ins_test = test_ids.merge(ins, how='left', on='SK_ID_CURR')"
   ]
  },
  {
   "cell_type": "code",
   "execution_count": 34,
   "id": "9dd19e03",
   "metadata": {},
   "outputs": [],
   "source": [
    "ins_report = Report(metrics=[DataDriftPreset()])\n",
    "\n",
    "ins_report.run(reference_data=ins_train, current_data=ins_test)"
   ]
  },
  {
   "cell_type": "code",
   "execution_count": 35,
   "id": "870b5369",
   "metadata": {},
   "outputs": [],
   "source": [
    "ins_report.save_html('installments_payments_data_drit.html')"
   ]
  },
  {
   "cell_type": "markdown",
   "id": "880e964a",
   "metadata": {},
   "source": [
    "# Credit card balance"
   ]
  },
  {
   "cell_type": "code",
   "execution_count": 37,
   "id": "1219e0c2",
   "metadata": {},
   "outputs": [],
   "source": [
    "cc = pd.read_csv('input/credit_card_balance.csv')\n",
    "\n",
    "cc_train = train_ids.merge(cc, how='left', on='SK_ID_CURR')\n",
    "cc_test = test_ids.merge(cc, how='left', on='SK_ID_CURR')"
   ]
  },
  {
   "cell_type": "code",
   "execution_count": 38,
   "id": "56d39540",
   "metadata": {},
   "outputs": [],
   "source": [
    "cc_report = Report(metrics=[DataDriftPreset()])\n",
    "\n",
    "cc_report.run(reference_data=cc_train, current_data=cc_test)"
   ]
  },
  {
   "cell_type": "code",
   "execution_count": 39,
   "id": "01b8abc6",
   "metadata": {},
   "outputs": [],
   "source": [
    "cc_report.save_html('credit_card_balance_data_drit.html')"
   ]
  }
 ],
 "metadata": {
  "kernelspec": {
   "display_name": "Python 3 (ipykernel)",
   "language": "python",
   "name": "python3"
  },
  "language_info": {
   "codemirror_mode": {
    "name": "ipython",
    "version": 3
   },
   "file_extension": ".py",
   "mimetype": "text/x-python",
   "name": "python",
   "nbconvert_exporter": "python",
   "pygments_lexer": "ipython3",
   "version": "3.8.8"
  },
  "varInspector": {
   "cols": {
    "lenName": 16,
    "lenType": 16,
    "lenVar": 40
   },
   "kernels_config": {
    "python": {
     "delete_cmd_postfix": "",
     "delete_cmd_prefix": "del ",
     "library": "var_list.py",
     "varRefreshCmd": "print(var_dic_list())"
    },
    "r": {
     "delete_cmd_postfix": ") ",
     "delete_cmd_prefix": "rm(",
     "library": "var_list.r",
     "varRefreshCmd": "cat(var_dic_list()) "
    }
   },
   "types_to_exclude": [
    "module",
    "function",
    "builtin_function_or_method",
    "instance",
    "_Feature"
   ],
   "window_display": false
  }
 },
 "nbformat": 4,
 "nbformat_minor": 5
}
